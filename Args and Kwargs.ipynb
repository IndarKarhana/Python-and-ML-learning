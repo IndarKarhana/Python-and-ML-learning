{
 "cells": [
  {
   "cell_type": "markdown",
   "metadata": {},
   "source": [
    "## ARGS AND KWARGS"
   ]
  },
  {
   "cell_type": "code",
   "execution_count": 1,
   "metadata": {},
   "outputs": [],
   "source": [
    "# why we use args?\n",
    "\n",
    "#--> suppose we created a function which prints  \"Name of person\" (that we pass to function)\n",
    "\n",
    "def hi_func(x):\n",
    "    print(x)\n",
    "hi_func(\"anonymus\")    \n",
    "    "
   ]
  },
  {
   "cell_type": "code",
   "execution_count": 14,
   "metadata": {},
   "outputs": [
    {
     "name": "stdout",
     "output_type": "stream",
     "text": [
      " I am a normal argument and the students are:\n",
      "anonymus\n",
      "john\n",
      "alex\n",
      "andy\n"
     ]
    }
   ],
   "source": [
    "#here if we decide that we want to print 4 names at once like  a,b,c,d than we will need to modify our function to take 4 inputs\n",
    "#so in this case we use args method as shown in example below:\n",
    "\n",
    "def funargs(normal, *args):         #it takes tuple as input, even when we provide a list to it it will take it as tuple\n",
    "    print(normal)\n",
    "    for x in args:\n",
    "        print(x)\n",
    "stud = (\"anonymus\",\"john\",\"alex\",\"andy\")\n",
    "normal = \" I am a normal argument and the students are:\"\n",
    "funargs(normal, *stud)"
   ]
  },
  {
   "cell_type": "code",
   "execution_count": 3,
   "metadata": {},
   "outputs": [
    {
     "name": "stdout",
     "output_type": "stream",
     "text": [
      " I am a normal argument and the students are:\n"
     ]
    }
   ],
   "source": [
    "#here we see if we need to add more names we don't need to modify the function\n",
    "# always remember that \"normal\" argument should be put first in function and than \"args\", and than \"kwargs\"\n",
    "# also args and kwargs are optional arguments like if shown below:\n",
    "\n",
    "funargs(normal)"
   ]
  },
  {
   "cell_type": "code",
   "execution_count": 15,
   "metadata": {},
   "outputs": [
    {
     "name": "stdout",
     "output_type": "stream",
     "text": [
      " I am a normal argument and the students are:\n",
      "anonymus\n",
      "john\n",
      "alex\n",
      "andy\n",
      "\n",
      "The staff is : \n",
      "\n",
      "admin is a ram\n",
      "controller is a raghu\n",
      "tutor is a anita\n"
     ]
    }
   ],
   "source": [
    "#what are kwargs?\n",
    "#--->in this we give a third argument known as kwargs which can be a dictionary of any lenght and use  that info in our function\n",
    "# understand by example below:\n",
    "\n",
    "def funkwargs(normal, *args, **kwargs):\n",
    "    print(normal)\n",
    "    for x in args:\n",
    "        print(x)\n",
    "    print(\"\\nThe staff is : \\n\") \n",
    "    for keys, values in kwargs.items():\n",
    "        print(f\"{keys} is a {values}\")  #here f\"\" is fstring which works like .format method\n",
    "stud1 = [\"anonymus\",\"john\",\"alex\",\"andy\"]\n",
    "staff1 = {\"admin\":\"ram\",\"controller\":\"raghu\",\"tutor\":\"anita\"}\n",
    "normal1 = \" I am a normal argument and the students are:\"\n",
    "funkwargs(normal1, *stud1, **staff1)\n"
   ]
  },
  {
   "cell_type": "code",
   "execution_count": 16,
   "metadata": {},
   "outputs": [],
   "source": [
    "#we add as many items in staff1"
   ]
  },
  {
   "cell_type": "code",
   "execution_count": null,
   "metadata": {},
   "outputs": [],
   "source": []
  }
 ],
 "metadata": {
  "kernelspec": {
   "display_name": "Python 3",
   "language": "python",
   "name": "python3"
  },
  "language_info": {
   "codemirror_mode": {
    "name": "ipython",
    "version": 3
   },
   "file_extension": ".py",
   "mimetype": "text/x-python",
   "name": "python",
   "nbconvert_exporter": "python",
   "pygments_lexer": "ipython3",
   "version": "3.7.2"
  }
 },
 "nbformat": 4,
 "nbformat_minor": 2
}
